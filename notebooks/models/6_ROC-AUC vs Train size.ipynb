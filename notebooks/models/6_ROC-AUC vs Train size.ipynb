{
 "cells": [
  {
   "cell_type": "code",
   "execution_count": 6,
   "metadata": {},
   "outputs": [],
   "source": [
    "import matplotlib.pyplot as plt\n",
    "import numpy as np\n",
    "%matplotlib inline\n",
    "\n",
    "import sys\n",
    "sys.path.append('../../')\n",
    "from src.data import TrainValTestSplitter, MURASubset\n",
    "from src import MODELS_DIR, MLFLOW_TRACKING_URI, DATA_PATH"
   ]
  },
  {
   "cell_type": "code",
   "execution_count": 7,
   "metadata": {},
   "outputs": [],
   "source": [
    "metrics = [{'roc-auc': 0.5755147813320031, 'mse': 0.0016654766, 'f1-score': 0.735202492211838, 'optimal mse threshold': 0.0003851093}, \n",
    " {'roc-auc': 0.5765307570945932, 'mse': 0.0014847583, 'f1-score': 0.735202492211838, 'optimal mse threshold': 0.00031432317}, \n",
    " {'roc-auc': 0.5802438341830217, 'mse': 0.001438485, 'f1-score': 0.735202492211838, 'optimal mse threshold': 0.00028840266}, \n",
    " {'roc-auc': 0.5767335466679645, 'mse': 0.0013824938, 'f1-score': 0.735202492211838, 'optimal mse threshold': 0.0002623585}, \n",
    " {'roc-auc': 0.5775345654827811, 'mse': 0.0014221062, 'f1-score': 0.735202492211838, 'optimal mse threshold': 0.0002878837}, \n",
    " {'roc-auc': 0.5432915181233041, 'mse': 0.0021212152, 'f1-score': 0.7330641543292956, 'optimal mse threshold': 0.000926133}, \n",
    " {'roc-auc': 0.5362689151974562, 'mse': 0.0031128908, 'f1-score': 0.7339285714285714, 'optimal mse threshold': 0.0013721049}, \n",
    " {'roc-auc': 0.579280583709508, 'mse': 0.0013284532, 'f1-score': 0.7355298308103295, 'optimal mse threshold': 0.00031153116}, \n",
    " {'roc-auc': 0.5808826213391413, 'mse': 0.0013112387, 'f1-score': 0.735202492211838, 'optimal mse threshold': 0.0002966229}, \n",
    " {'roc-auc': 0.5794590385340748, 'mse': 0.001224907, 'f1-score': 0.735202492211838, 'optimal mse threshold': 0.00026323932}, \n",
    " {'roc-auc': 0.5795158196146187, 'mse': 0.001444518, 'f1-score': 0.735202492211838, 'optimal mse threshold': 0.0003786951}]"
   ]
  },
  {
   "cell_type": "code",
   "execution_count": 8,
   "metadata": {},
   "outputs": [
    {
     "name": "stdout",
     "output_type": "stream",
     "text": [
      "=================Train subset=================\n",
      "Size: 3012\n",
      "Percentage from original data: 0.5145199863341305\n",
      "Percentage of negatives: 1.0\n",
      "Number of patients: 1017\n",
      "=============Validation subset===============\n",
      "Size: 1419\n",
      "Percentage from original data: 0.2423983600956611\n",
      "Percentage of negatives: 0.485553206483439\n",
      "Number of patients: 473\n",
      "=================Test subset=================\n",
      "Size: 1423\n",
      "Percentage from original data: 0.24308165357020842\n",
      "Percentage of negatives: 0.4195361911454673\n",
      "Number of patients: 474\n"
     ]
    }
   ],
   "source": [
    "data_path = f'{DATA_PATH}/XR_HAND_PHOTOSHOP'\n",
    "splitter = TrainValTestSplitter(path_to_data=data_path)\n",
    "train_dataset_sizes = list(range(len(splitter.data_test), len(splitter.data_train), 150))"
   ]
  },
  {
   "cell_type": "code",
   "execution_count": 21,
   "metadata": {},
   "outputs": [
    {
     "data": {
      "text/plain": [
       "Text(0, 0.5, 'ROC-AUC on test')"
      ]
     },
     "execution_count": 21,
     "metadata": {},
     "output_type": "execute_result"
    },
    {
     "data": {
      "image/png": "[encoded data removed]",
      "text/plain": [
       "<Figure size 432x288 with 1 Axes>"
      ]
     },
     "metadata": {
      "needs_background": "light"
     },
     "output_type": "display_data"
    }
   ],
   "source": [
    "plt.scatter(train_dataset_sizes, [metric['roc-auc'] for metric in metrics])\n",
    "plt.ylim(0.0, 1.)\n",
    "plt.title('ROC-AUC vs. Training subset size')\n",
    "plt.xlabel('Samples in train subset')\n",
    "plt.ylabel('ROC-AUC on test')"
   ]
  },
  {
   "cell_type": "code",
   "execution_count": 13,
   "metadata": {},
   "outputs": [
    {
     "data": {
      "text/plain": [
       "<matplotlib.collections.PathCollection at 0x7f13de174518>"
      ]
     },
     "execution_count": 13,
     "metadata": {},
     "output_type": "execute_result"
    },
    {
     "data": {
      "image/png": "[encoded data removed]",
      "text/plain": [
       "<Figure size 432x288 with 1 Axes>"
      ]
     },
     "metadata": {
      "needs_background": "light"
     },
     "output_type": "display_data"
    }
   ],
   "source": [
    "plt.scatter(train_dataset_sizes, [metric['mse'] for metric in metrics])"
   ]
  },
  {
   "cell_type": "code",
   "execution_count": null,
   "metadata": {},
   "outputs": [],
   "source": []
  }
 ],
 "metadata": {
  "kernelspec": {
   "display_name": "Python 3",
   "language": "python",
   "name": "python3"
  },
  "language_info": {
   "codemirror_mode": {
    "name": "ipython",
    "version": 3
   },
   "file_extension": ".py",
   "mimetype": "text/x-python",
   "name": "python",
   "nbconvert_exporter": "python",
   "pygments_lexer": "ipython3",
   "version": "3.6.7"
  }
 },
 "nbformat": 4,
 "nbformat_minor": 2
}
