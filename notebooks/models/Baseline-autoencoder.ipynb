{
 "cells": [
  {
   "cell_type": "code",
   "execution_count": 1,
   "metadata": {},
   "outputs": [
    {
     "name": "stdout",
     "output_type": "stream",
     "text": [
      "Using matplotlib backend: TkAgg\n"
     ]
    }
   ],
   "source": [
    "# Data loading \n",
    "\n",
    "import numpy as np\n",
    "import cv2\n",
    "import glob\n",
    "import pandas as pd\n",
    "import re\n",
    "from sklearn.model_selection import train_test_split, GroupKFold, GroupShuffleSplit\n",
    "import matplotlib.pyplot as plt\n",
    "cmap_data = plt.cm.Paired\n",
    "%matplotlib"
   ]
  },
  {
   "cell_type": "markdown",
   "metadata": {},
   "source": [
    "## Train-val-test split"
   ]
  },
  {
   "cell_type": "code",
   "execution_count": 5,
   "metadata": {},
   "outputs": [
    {
     "data": {
      "text/plain": [
       "'c:\\\\users\\\\valik\\\\documents\\\\lmu\\\\xray/data/train/XR_HAND'"
      ]
     },
     "execution_count": 5,
     "metadata": {},
     "output_type": "execute_result"
    }
   ],
   "source": [
    "from src.data import TrainValTestSplitter, DataGenerator\n",
    "from src import *\n",
    "XR_HAND_PATH"
   ]
  },
  {
   "cell_type": "code",
   "execution_count": 6,
   "metadata": {},
   "outputs": [
    {
     "name": "stdout",
     "output_type": "stream",
     "text": [
      "=================Train subset=================\n",
      "Size: 2846\n",
      "Percentage from original data: 0.5134403752480606\n",
      "Percentage of negatives: 1.0\n",
      "Number of patients: 1017\n",
      "=============Validation subset===============\n",
      "Size: 1356\n",
      "Percentage from original data: 0.24463287028684827\n",
      "Percentage of negatives: 0.4837758112094395\n",
      "Number of patients: 473\n",
      "=================Test subset=================\n",
      "Size: 1341\n",
      "Percentage from original data: 0.2419267544650911\n",
      "Percentage of negatives: 0.4153616703952274\n",
      "Number of patients: 474\n"
     ]
    }
   ],
   "source": [
    "splitter = TrainValTestSplitter()"
   ]
  },
  {
   "cell_type": "code",
   "execution_count": 7,
   "metadata": {},
   "outputs": [
    {
     "data": {
      "image/png": "[encoded data removed]",
      "text/plain": [
       "<Figure size 1080x360 with 1 Axes>"
      ]
     },
     "metadata": {},
     "output_type": "display_data"
    }
   ],
   "source": [
    "n_points = 100\n",
    "\n",
    "percentiles_split = [.7, .15, .15]\n",
    "train_classes = [1, .0]\n",
    "val_classes = [0.5, 0.5]\n",
    "test_classes = [0.5, 0.5]\n",
    "\n",
    "split = np.hstack([[ii] * int(1000 * perc) for ii, perc in enumerate(percentiles_split)])\n",
    "train_classes = np.hstack([[ii] * int(700 * perc) for ii, perc in enumerate(train_classes)])\n",
    "val_classes = np.hstack([[ii] * int(150 * perc) for ii, perc in enumerate(val_classes)])\n",
    "test_classes = np.hstack([[ii] * int(150 * perc) for ii, perc in enumerate(test_classes)])\n",
    "groups = np.hstack([[ii] * 10 for ii in range(100)])\n",
    "\n",
    "\n",
    "def visualize_groups(split, groups, name):\n",
    "    # Visualize dataset groups\n",
    "    fig, ax = plt.subplots(figsize = (15, 5))\n",
    "    ax.scatter(range(len(groups)),  [.5] * len(groups), c=groups, marker='_', lw=50, cmap='gist_ncar',\n",
    "                  edgecolor='black')\n",
    "    train_size = int(percentiles_split[0]*len(groups))\n",
    "    val_size = int(percentiles_split[1]*len(groups)) \n",
    "    test_size = int(percentiles_split[2]*len(groups))\n",
    "\n",
    "    ax.axvline(695, ymin=0.1, ymax=0.9)\n",
    "    ax.axvline(845, ymin=0.1, ymax=0.9)\n",
    "    \n",
    "    ax.scatter(range(train_size), [2] * train_size, c=train_classes, marker='_', lw=50, cmap='Set2')\n",
    "    ax.scatter(range(train_size, train_size+val_size),  [2] * val_size, c=val_classes, marker='_', lw=50, cmap='Set2')\n",
    "    ax.scatter(range(train_size+val_size, train_size+val_size+test_size),  [2] * test_size, c=val_classes, marker='_', lw=50, cmap='Set2')\n",
    "    ax.text(10, 2, 'Negative')\n",
    "    ax.text(705, 2, 'Negative')\n",
    "    ax.text(780, 2, 'Positive')\n",
    "    ax.text(855, 2, 'Negative')\n",
    "    ax.text(930, 2, 'Positive')\n",
    "    \n",
    "    \n",
    "    ax.scatter(range(len(groups)),  [3.5] * len(groups), c=split, marker='_', lw=50, cmap=cmap_data)\n",
    "    ax.text(10, 3.4, 'Train', fontsize=15)\n",
    "    ax.text(705, 3.4, 'Validation', fontsize=15)\n",
    "    ax.text(855, 3.4, 'Test', fontsize=15)\n",
    "    \n",
    "    \n",
    "    ax.set(ylim=[-1, 5], yticks=[.5, 2.0, 3.5], xticks = range(-5, 1100, 100), xticklabels = range(0, 110, 10),\n",
    "           yticklabels=['Patients', 'Data\\nclasses', 'Split'], xlabel=\"Percentage\")\n",
    "    ax.set_title('Validation strategy', fontsize=20)\n",
    "\n",
    "visualize_groups(split, groups, 'no groups')"
   ]
  },
  {
   "cell_type": "markdown",
   "metadata": {},
   "source": [
    "## PyTorch model"
   ]
  },
  {
   "cell_type": "code",
   "execution_count": 20,
   "metadata": {},
   "outputs": [],
   "source": [
    "from src.models import BottleneckAutoencoder\n",
    "import torch.nn as nn\n",
    "import torch\n",
    "from src.models.pytorch_summary.torchsummary import summary\n",
    "\n",
    "train_generator = DataGenerator(filenames=splitter.data_train.path[0:128], batch_size=32)\n",
    "val_generator = DataGenerator(filenames=splitter.data_val.path[0:64], batch_size=32, \n",
    "                              true_labels=splitter.data_val.label)"
   ]
  },
  {
   "cell_type": "code",
   "execution_count": 21,
   "metadata": {},
   "outputs": [],
   "source": [
    "model = BottleneckAutoencoder().cpu()\n",
    "inner_loss = nn.MSELoss()\n",
    "outer_loss = nn.MSELoss(reduction='none')\n",
    "optimizer = torch.optim.Adam(model.parameters(), lr=1e-3)"
   ]
  },
  {
   "cell_type": "code",
   "execution_count": 41,
   "metadata": {
    "scrolled": false
   },
   "outputs": [
    {
     "name": "stdout",
     "output_type": "stream",
     "text": [
      "----------------------------------------------------------------\n",
      "        Layer (type)               Output Shape         Param #\n",
      "================================================================\n",
      "            Conv2d-1         [-1, 16, 512, 512]             160\n",
      "         MaxPool2d-2  [[-1, 16, 256, 256], [-1, 16, 256, 256]]               0\n",
      "            Conv2d-3         [-1, 32, 128, 128]           8,224\n",
      "         MaxPool2d-4  [[-1, 32, 64, 64], [-1, 32, 64, 64]]               0\n",
      "            Conv2d-5           [-1, 64, 32, 32]          32,832\n",
      "         MaxPool2d-6  [[-1, 64, 16, 16], [-1, 64, 16, 16]]               0\n",
      "            Conv2d-7            [-1, 128, 8, 8]         131,200\n",
      "         MaxPool2d-8  [[-1, 128, 4, 4], [-1, 128, 4, 4]]               0\n",
      "            Conv2d-9            [-1, 256, 2, 2]         524,544\n",
      "        MaxPool2d-10  [[-1, 256, 1, 1], [-1, 256, 1, 1]]               0\n",
      "           Conv2d-11            [-1, 256, 1, 1]          65,792\n",
      "  ConvTranspose2d-12            [-1, 256, 1, 1]          65,792\n",
      "      MaxUnpool2d-13            [-1, 256, 2, 2]               0\n",
      "  ConvTranspose2d-14            [-1, 128, 4, 4]         524,416\n",
      "      MaxUnpool2d-15            [-1, 128, 8, 8]               0\n",
      "  ConvTranspose2d-16           [-1, 64, 16, 16]         131,136\n",
      "      MaxUnpool2d-17           [-1, 64, 32, 32]               0\n",
      "  ConvTranspose2d-18           [-1, 32, 64, 64]          32,800\n",
      "      MaxUnpool2d-19         [-1, 32, 128, 128]               0\n",
      "  ConvTranspose2d-20         [-1, 16, 256, 256]           8,208\n",
      "      MaxUnpool2d-21         [-1, 16, 512, 512]               0\n",
      "  ConvTranspose2d-22          [-1, 1, 512, 512]             145\n",
      "================================================================\n",
      "Total params: 1,525,249\n",
      "Trainable params: 1,525,249\n",
      "Non-trainable params: 0\n",
      "----------------------------------------------------------------\n",
      "Input size (MB): 1.00\n",
      "Forward/backward pass size (MB): 1996.21\n",
      "Params size (MB): 5.82\n",
      "Estimated Total Size (MB): 2003.03\n",
      "----------------------------------------------------------------\n"
     ]
    }
   ],
   "source": [
    "model_summary = summary(model, input_size=(train_generator.n_channels, *train_generator.dim), device='cpu')"
   ]
  },
  {
   "cell_type": "code",
   "execution_count": null,
   "metadata": {},
   "outputs": [],
   "source": []
  }
 ],
 "metadata": {
  "kernelspec": {
   "display_name": "Python 3",
   "language": "python",
   "name": "python3"
  },
  "language_info": {
   "codemirror_mode": {
    "name": "ipython",
    "version": 3
   },
   "file_extension": ".py",
   "mimetype": "text/x-python",
   "name": "python",
   "nbconvert_exporter": "python",
   "pygments_lexer": "ipython3",
   "version": "3.6.5"
  }
 },
 "nbformat": 4,
 "nbformat_minor": 2
}
