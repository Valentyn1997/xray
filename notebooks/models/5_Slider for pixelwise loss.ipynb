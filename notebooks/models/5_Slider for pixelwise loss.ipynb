{
 "cells": [
  {
   "cell_type": "code",
   "execution_count": 1,
   "metadata": {},
   "outputs": [
    {
     "name": "stderr",
     "output_type": "stream",
     "text": [
      "/usr/lib/python3/dist-packages/requests/__init__.py:80: RequestsDependencyWarning: urllib3 (1.24.3) or chardet (3.0.4) doesn't match a supported version!\n",
      "  RequestsDependencyWarning)\n"
     ]
    }
   ],
   "source": [
    "from ipywidgets import interact\n",
    "import ipywidgets as widgets\n",
    "import imgaug.augmenters as iaa\n",
    "from torchvision.transforms import Compose\n",
    "from torch.utils.data import DataLoader\n",
    "import torch\n",
    "import torch.nn as nn\n",
    "import cv2\n",
    "\n",
    "import sys\n",
    "sys.path.append('../../')\n",
    "\n",
    "from src.features.pixelwise_loss import PixelwiseLoss\n",
    "\n",
    "from src import MODELS_DIR, MLFLOW_TRACKING_URI, DATA_PATH\n",
    "from src.data import TrainValTestSplitter, MURASubset\n",
    "from src.data.transforms import GrayScale, Resize, HistEqualisation, MinMaxNormalization, ToTensor\n",
    "from src.features.augmentation import Augmentation\n",
    "from src.models.autoencoders import BottleneckAutoencoder, BaselineAutoencoder, SkipConnection\n",
    "from src.models.autoencoders import MaskedMSELoss\n",
    "\n",
    "%matplotlib inline"
   ]
  },
  {
   "cell_type": "code",
   "execution_count": 43,
   "metadata": {},
   "outputs": [],
   "source": [
    "run_params = {\n",
    "    'image_resolution': (512, 512),\n",
    "    'pipeline': {\n",
    "        'hist_equalisation': False,\n",
    "        'data_source': 'XR_HAND_PHOTOSHOP',\n",
    "    }\n",
    "}\n",
    "\n",
    "augmentation_seq = iaa.Sequential([iaa.Affine(fit_output=False, rotate=(0), order=[0, 1]),  \n",
    "                                   iaa.PadToFixedSize(*run_params['image_resolution'], position='center')])\n",
    "\n",
    "composed_transforms = Compose([GrayScale(),\n",
    "                               HistEqualisation(active=run_params['pipeline']['hist_equalisation']),\n",
    "                               Resize(run_params['image_resolution'], keep_aspect_ratio=True),\n",
    "                               Augmentation(augmentation_seq),\n",
    "                               MinMaxNormalization(),\n",
    "                               ToTensor()])"
   ]
  },
  {
   "cell_type": "code",
   "execution_count": 44,
   "metadata": {
    "scrolled": true
   },
   "outputs": [
    {
     "data": {
      "text/plain": [
       "BaselineAutoencoder(\n",
       "  (encoder): Sequential(\n",
       "    (0): Conv2d(1, 16, kernel_size=(3, 3), stride=(1, 1), padding=(1, 1), bias=False)\n",
       "    (1): BatchNorm2d(16, eps=1e-05, momentum=0.1, affine=True, track_running_stats=True)\n",
       "    (2): ReLU()\n",
       "    (3): Conv2d(16, 32, kernel_size=(4, 4), stride=(2, 2), padding=(1, 1), bias=False)\n",
       "    (4): BatchNorm2d(32, eps=1e-05, momentum=0.1, affine=True, track_running_stats=True)\n",
       "    (5): ReLU()\n",
       "    (6): Conv2d(32, 32, kernel_size=(3, 3), stride=(1, 1), padding=(1, 1), bias=False)\n",
       "    (7): BatchNorm2d(32, eps=1e-05, momentum=0.1, affine=True, track_running_stats=True)\n",
       "    (8): ReLU()\n",
       "    (9): Conv2d(32, 64, kernel_size=(4, 4), stride=(2, 2), padding=(1, 1), bias=False)\n",
       "    (10): BatchNorm2d(64, eps=1e-05, momentum=0.1, affine=True, track_running_stats=True)\n",
       "    (11): ReLU()\n",
       "    (12): Conv2d(64, 64, kernel_size=(3, 3), stride=(1, 1), padding=(1, 1), bias=False)\n",
       "    (13): BatchNorm2d(64, eps=1e-05, momentum=0.1, affine=True, track_running_stats=True)\n",
       "    (14): ReLU()\n",
       "    (15): Conv2d(64, 128, kernel_size=(4, 4), stride=(2, 2), padding=(1, 1), bias=False)\n",
       "    (16): BatchNorm2d(128, eps=1e-05, momentum=0.1, affine=True, track_running_stats=True)\n",
       "    (17): ReLU()\n",
       "    (18): Conv2d(128, 128, kernel_size=(3, 3), stride=(1, 1), padding=(1, 1), bias=False)\n",
       "    (19): BatchNorm2d(128, eps=1e-05, momentum=0.1, affine=True, track_running_stats=True)\n",
       "    (20): ReLU()\n",
       "    (21): Conv2d(128, 256, kernel_size=(4, 4), stride=(2, 2), padding=(1, 1), bias=False)\n",
       "    (22): BatchNorm2d(256, eps=1e-05, momentum=0.1, affine=True, track_running_stats=True)\n",
       "    (23): ReLU()\n",
       "    (24): Conv2d(256, 256, kernel_size=(3, 3), stride=(1, 1), padding=(1, 1), bias=False)\n",
       "    (25): BatchNorm2d(256, eps=1e-05, momentum=0.1, affine=True, track_running_stats=True)\n",
       "    (26): ReLU()\n",
       "    (27): Conv2d(256, 512, kernel_size=(4, 4), stride=(2, 2), padding=(1, 1), bias=False)\n",
       "    (28): BatchNorm2d(512, eps=1e-05, momentum=0.1, affine=True, track_running_stats=True)\n",
       "    (29): ReLU()\n",
       "  )\n",
       "  (decoder): Sequential(\n",
       "    (0): ConvTranspose2d(512, 256, kernel_size=(4, 4), stride=(2, 2), padding=(1, 1), bias=False)\n",
       "    (1): BatchNorm2d(256, eps=1e-05, momentum=0.1, affine=True, track_running_stats=True)\n",
       "    (2): ReLU()\n",
       "    (3): ConvTranspose2d(256, 128, kernel_size=(4, 4), stride=(2, 2), padding=(1, 1), bias=False)\n",
       "    (4): BatchNorm2d(128, eps=1e-05, momentum=0.1, affine=True, track_running_stats=True)\n",
       "    (5): ReLU()\n",
       "    (6): ConvTranspose2d(128, 64, kernel_size=(4, 4), stride=(2, 2), padding=(1, 1), bias=False)\n",
       "    (7): BatchNorm2d(64, eps=1e-05, momentum=0.1, affine=True, track_running_stats=True)\n",
       "    (8): ReLU()\n",
       "    (9): ConvTranspose2d(64, 32, kernel_size=(4, 4), stride=(2, 2), padding=(1, 1), bias=False)\n",
       "    (10): BatchNorm2d(32, eps=1e-05, momentum=0.1, affine=True, track_running_stats=True)\n",
       "    (11): ReLU()\n",
       "    (12): ConvTranspose2d(32, 16, kernel_size=(4, 4), stride=(2, 2), padding=(1, 1), bias=False)\n",
       "    (13): BatchNorm2d(16, eps=1e-05, momentum=0.1, affine=True, track_running_stats=True)\n",
       "    (14): ReLU()\n",
       "    (15): ConvTranspose2d(16, 1, kernel_size=(3, 3), stride=(1, 1), padding=(1, 1), bias=False)\n",
       "    (16): ReLU()\n",
       "    (17): Tanh()\n",
       "  )\n",
       "  (inner_loss): MaskedMSELoss(\n",
       "    (criterion): MSELoss()\n",
       "  )\n",
       "  (outer_loss): MaskedMSELoss(\n",
       "    (criterion): MSELoss()\n",
       "  )\n",
       ")"
      ]
     },
     "execution_count": 44,
     "metadata": {},
     "output_type": "execute_result"
    }
   ],
   "source": [
    "device = \"cuda\" if torch.cuda.is_available() else \"cpu\"\n",
    "model = torch.load(\"/home/ubuntu/mlruns/1/5ca7f67c33674926a00590752c877fe5/artifacts/BaselineAutoencoder.pth\", map_location=device)\n",
    "# model = torch.load(\"/home/ubuntu/mlruns/2/3766754ed32043bcbdc61d053615af6d/artifacts//BottleneckAutoencoder.pth\", map_location=device)\n",
    "# model = torch.load(\"/home/diana/xray/mlruns/1/28737a0f69dd4016a055433176df6a87/artifacts/VAE/data/model.pth\", map_location=device)\n",
    "\n",
    "# set loss function\n",
    "outer_loss = nn.MSELoss(reduction='none')\n",
    "model.eval().to(device)"
   ]
  },
  {
   "cell_type": "code",
   "execution_count": 49,
   "metadata": {},
   "outputs": [
    {
     "name": "stderr",
     "output_type": "stream",
     "text": [
      "evaluation: 100%|██████████| 1/1 [00:00<00:00,  4.73it/s]\n"
     ]
    }
   ],
   "source": [
    "# Loading image\n",
    "image_path = f'{DATA_PATH}/{run_params[\"pipeline\"][\"data_source\"]}/patient00141/study1_negative/image2_cropped_1.png'\n",
    "\n",
    "validation = MURASubset(filenames=[image_path], true_labels=[0],\n",
    "                        patients=['00141'], transform=composed_transforms)\n",
    "val_loader = DataLoader(validation, batch_size=1, shuffle=True, num_workers=2)\n",
    "\n",
    "label = 0\n",
    "patient = '00141'\n",
    "\n",
    "evaluation = PixelwiseLoss(model=model, model_class='CAE', device=device, loss_function=MaskedMSELoss(reduction=\"none\"), masked_loss_on_val=True)\n",
    "loss_dict = evaluation.get_loss(data=val_loader)\n",
    "\n",
    "for batch in validation:\n",
    "    inp_image = batch['image'].cpu()[0]\n",
    "loss = loss_dict['loss'][0][0]\n",
    "loss = cv2.resize(loss, (512, 512))\n",
    "inp_image = cv2.resize(inp_image.numpy(), (512, 512))\n"
   ]
  },
  {
   "cell_type": "code",
   "execution_count": 50,
   "metadata": {},
   "outputs": [
    {
     "data": {
      "application/vnd.jupyter.widget-view+json": {
       "model_id": "4ca7e07ca2cd4bfb8e68d0cdcf0432d9",
       "version_major": 2,
       "version_minor": 0
      },
      "text/plain": [
       "interactive(children=(FloatSlider(value=0.002, description='max_loss', max=0.005, min=0.0001, readout_format='…"
      ]
     },
     "metadata": {},
     "output_type": "display_data"
    },
    {
     "data": {
      "text/plain": [
       "<function __main__.plot_pixelwise(max_loss)>"
      ]
     },
     "execution_count": 50,
     "metadata": {},
     "output_type": "execute_result"
    }
   ],
   "source": [
    "def plot_pixelwise(max_loss):\n",
    "    evaluation.add_heatmap(inp_image, label, patient, loss, original_path=None, max_loss=max_loss, \n",
    "                           sigma=4, path=None, save=False, display=True, figsize=(5, 5))\n",
    "interact(plot_pixelwise, \n",
    "         max_loss = widgets.FloatSlider(min=0.0001, max=0.005, step=0.0001, value = 0.002, readout_format ='.5f'))"
   ]
  },
  {
   "cell_type": "code",
   "execution_count": 51,
   "metadata": {},
   "outputs": [
    {
     "name": "stderr",
     "output_type": "stream",
     "text": [
      "evaluation: 100%|██████████| 1/1 [00:00<00:00,  1.83it/s]\n"
     ]
    }
   ],
   "source": [
    "# Loading image\n",
    "image_path = f'{DATA_PATH}/{run_params[\"pipeline\"][\"data_source\"]}/patient09769/study1_positive/image2_undetected_1.png'\n",
    "\n",
    "validation = MURASubset(filenames=[image_path], true_labels=[1],\n",
    "                        patients=['09769'], transform=composed_transforms)\n",
    "val_loader = DataLoader(validation, batch_size=1, shuffle=True, num_workers=2)\n",
    "\n",
    "label = 1\n",
    "patient = '09769'\n",
    "\n",
    "evaluation = PixelwiseLoss(model=model, model_class='CAE', device=device, loss_function=MaskedMSELoss(reduction=\"none\"), masked_loss_on_val=True)\n",
    "loss_dict = evaluation.get_loss(data=val_loader)\n",
    "\n",
    "for batch in validation:\n",
    "    inp_image = batch['image'].cpu()[0]\n",
    "loss = loss_dict['loss'][0][0]\n",
    "loss = cv2.resize(loss, (512, 512))\n",
    "inp_image = cv2.resize(inp_image.numpy(), (512, 512))\n"
   ]
  },
  {
   "cell_type": "code",
   "execution_count": 52,
   "metadata": {},
   "outputs": [
    {
     "data": {
      "application/vnd.jupyter.widget-view+json": {
       "model_id": "e9adb5f4f06049e08bc929ad7f16d8a7",
       "version_major": 2,
       "version_minor": 0
      },
      "text/plain": [
       "interactive(children=(FloatSlider(value=0.001, description='max_loss', max=0.01, min=0.0001, readout_format='.…"
      ]
     },
     "metadata": {},
     "output_type": "display_data"
    },
    {
     "data": {
      "text/plain": [
       "<function __main__.plot_pixelwise(max_loss)>"
      ]
     },
     "execution_count": 52,
     "metadata": {},
     "output_type": "execute_result"
    }
   ],
   "source": [
    "def plot_pixelwise(max_loss):\n",
    "    evaluation.add_heatmap(inp_image, label, patient, loss, original_path=None, max_loss=max_loss, \n",
    "                           sigma=4, path=None, save=False, display=True, figsize=(5, 5))\n",
    "interact(plot_pixelwise, \n",
    "         max_loss = widgets.FloatSlider(min=0.0001, max=0.01, step=0.0005, value = 0.001, readout_format ='.5f'))"
   ]
  },
  {
   "cell_type": "code",
   "execution_count": null,
   "metadata": {},
   "outputs": [],
   "source": []
  }
 ],
 "metadata": {
  "kernelspec": {
   "display_name": "Python 3",
   "language": "python",
   "name": "python3"
  },
  "language_info": {
   "codemirror_mode": {
    "name": "ipython",
    "version": 3
   },
   "file_extension": ".py",
   "mimetype": "text/x-python",
   "name": "python",
   "nbconvert_exporter": "python",
   "pygments_lexer": "ipython3",
   "version": "3.6.7"
  }
 },
 "nbformat": 4,
 "nbformat_minor": 2
}
