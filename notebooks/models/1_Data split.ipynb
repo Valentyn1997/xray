{
 "cells": [
  {
   "cell_type": "code",
   "execution_count": 1,
   "metadata": {},
   "outputs": [
    {
     "name": "stdout",
     "output_type": "stream",
     "text": [
      "Using matplotlib backend: TkAgg\n"
     ]
    }
   ],
   "source": [
    "# Data loading \n",
    "\n",
    "import numpy as np\n",
    "import cv2\n",
    "import glob\n",
    "import pandas as pd\n",
    "import re\n",
    "from sklearn.model_selection import train_test_split, GroupKFold, GroupShuffleSplit\n",
    "import matplotlib.pyplot as plt\n",
    "cmap_data = plt.cm.Paired\n",
    "%matplotlib"
   ]
  },
  {
   "cell_type": "markdown",
   "metadata": {},
   "source": [
    "## Train-val-test split"
   ]
  },
  {
   "cell_type": "code",
   "execution_count": 73,
   "metadata": {},
   "outputs": [],
   "source": [
    "from src.data import TrainValTestSplitter\n",
    "from src import *\n",
    "data_path = f'{DATA_PATH}/XR_HAND'"
   ]
  },
  {
   "cell_type": "code",
   "execution_count": 74,
   "metadata": {},
   "outputs": [
    {
     "name": "stdout",
     "output_type": "stream",
     "text": [
      "=================Train subset=================\n",
      "Size: 2846\n",
      "Percentage from original data: 0.5134403752480606\n",
      "Percentage of negatives: 1.0\n",
      "Number of patients: 1017\n",
      "=============Validation subset===============\n",
      "Size: 1356\n",
      "Percentage from original data: 0.24463287028684827\n",
      "Percentage of negatives: 0.4837758112094395\n",
      "Number of patients: 473\n",
      "=================Test subset=================\n",
      "Size: 1341\n",
      "Percentage from original data: 0.2419267544650911\n",
      "Percentage of negatives: 0.4153616703952274\n",
      "Number of patients: 474\n"
     ]
    }
   ],
   "source": [
    "splitter = TrainValTestSplitter(path_to_data=data_path)"
   ]
  },
  {
   "cell_type": "code",
   "execution_count": 70,
   "metadata": {},
   "outputs": [],
   "source": [
    "import matplotlib\n",
    "custom_cmap_1 = matplotlib.colors.ListedColormap([(185/255,224/255,165/255), (255/255,217/255,102/255)])\n",
    "custom_cmap_2 = matplotlib.colors.ListedColormap([(255/255,217/255,102/255),\n",
    "                                                  (218/255,232/255,252/255), (185/255,224/255,165/255)])"
   ]
  },
  {
   "cell_type": "code",
   "execution_count": 72,
   "metadata": {},
   "outputs": [
    {
     "data": {
      "image/png": "[encoded data removed]",
      "text/plain": [
       "<Figure size 1080x360 with 1 Axes>"
      ]
     },
     "metadata": {},
     "output_type": "display_data"
    }
   ],
   "source": [
    "n_points = 100\n",
    "\n",
    "percentiles_split = [.5, .25, .25]\n",
    "train_classes = [1, .0]\n",
    "val_classes = [0.5, 0.5]\n",
    "test_classes = [0.5, 0.5]\n",
    "\n",
    "split = np.hstack([[ii] * int(1000 * perc) for ii, perc in enumerate(percentiles_split)])\n",
    "train_classes = np.hstack([[ii] * int(500 * perc) for ii, perc in enumerate(train_classes)])\n",
    "val_classes = np.hstack([[ii] * int(250 * perc) for ii, perc in enumerate(val_classes)])\n",
    "test_classes = np.hstack([[ii] * int(250 * perc) for ii, perc in enumerate(test_classes)])\n",
    "groups = np.hstack([[ii] * 10 for ii in range(100)])\n",
    "\n",
    "\n",
    "def visualize_groups(split, groups, name):\n",
    "    # Visualize dataset groups\n",
    "    fig, ax = plt.subplots(figsize = (15, 5))\n",
    "    ax.scatter(range(len(groups)),  [.5] * len(groups), c=groups, marker='_', lw=50, cmap='gist_ncar',\n",
    "                  edgecolor='black')\n",
    "    train_size = int(percentiles_split[0]*len(groups))\n",
    "    val_size = int(percentiles_split[1]*len(groups)) \n",
    "    test_size = int(percentiles_split[2]*len(groups))\n",
    "\n",
    "    ax.axvline(495, ymin=0.1, ymax=0.9)\n",
    "    ax.axvline(745, ymin=0.1, ymax=0.9)\n",
    "    \n",
    "    ax.scatter(range(train_size), [2] * train_size, c=train_classes, marker='_', lw=50, cmap=custom_cmap_1)\n",
    "    ax.scatter(range(train_size, train_size+val_size),  [2] * val_size, c=val_classes, marker='_', lw=50, cmap=custom_cmap_1)\n",
    "    ax.scatter(range(train_size+val_size, train_size+val_size+test_size),  [2] * test_size, c=val_classes, marker='_', lw=50, cmap=custom_cmap_1)\n",
    "    ax.text(10, 1.9, 'Negative', fontsize=15)\n",
    "    ax.text(505, 1.9, 'Negative', fontsize=15)\n",
    "    ax.text(505+125, 1.9, 'Positive', fontsize=15)\n",
    "    ax.text(755, 1.9, 'Negative', fontsize=15)\n",
    "    ax.text(755+125, 1.9, 'Positive', fontsize=15)\n",
    "    \n",
    "    \n",
    "    ax.scatter(range(len(groups)),  [3.5] * len(groups), c=split, marker='_', lw=50, cmap=custom_cmap_2)\n",
    "    ax.text(10, 3.4, 'Train', fontsize=15)\n",
    "    ax.text(505, 3.4, 'Validation', fontsize=15)\n",
    "    ax.text(755, 3.4, 'Test', fontsize=15)\n",
    "    \n",
    "    \n",
    "    ax.set(ylim=[-1, 5], yticks=[.5, 2.0, 3.5], xticks = range(-5, 1100, 100), xticklabels = range(0, 110, 10),\n",
    "           yticklabels=['Patients', 'Data\\nclasses', 'Split'], xlabel=\"Percentage\")\n",
    "    ax.set_title('Validation strategy', fontsize=20)\n",
    "\n",
    "visualize_groups(split, groups, 'no groups')\n",
    "plt.savefig('validation_strategy.png', dpi=400)"
   ]
  },
  {
   "cell_type": "code",
   "execution_count": null,
   "metadata": {},
   "outputs": [],
   "source": []
  }
 ],
 "metadata": {
  "kernelspec": {
   "display_name": "Python 3",
   "language": "python",
   "name": "python3"
  },
  "language_info": {
   "codemirror_mode": {
    "name": "ipython",
    "version": 3
   },
   "file_extension": ".py",
   "mimetype": "text/x-python",
   "name": "python",
   "nbconvert_exporter": "python",
   "pygments_lexer": "ipython3",
   "version": "3.6.7"
  }
 },
 "nbformat": 4,
 "nbformat_minor": 2
}
